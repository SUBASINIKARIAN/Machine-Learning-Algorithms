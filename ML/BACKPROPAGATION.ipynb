{
 "cells": [
  {
   "cell_type": "code",
   "execution_count": 13,
   "id": "0dfbeb57",
   "metadata": {},
   "outputs": [
    {
     "name": "stdout",
     "output_type": "stream",
     "text": [
      "Initial hidden weights: [0.21116899 0.12308709 0.428008   0.35818602 0.02606027] [0.86025212 0.8149229  0.56537053 0.82481502 0.98165759]\n",
      "Initial hidden biases: [0.49130558 0.4286863  0.87688037 0.94017329 0.34622678]\n",
      "Initial output weights: [0.26911029 0.14843968 0.33774116] [0.35198935 0.87243946 0.97603041] [0.89521585 0.68685541 0.47390216] [0.81916706 0.85360399 0.08427064] [0.82938016 0.5121598  0.47511151]\n",
      "Initial output biases: [0.74762346 0.14937718 0.16842994] \n",
      "\n",
      "Error in  0 : [-0.9648963  -0.93299916 -0.88341047] [-0.95210548 -0.9102203  -0.84991009] [0.0554737  0.10260078 0.16211865] [0.03176589 0.06111786 0.11018006] \n",
      "\n",
      "Error in  1 : [-0.96381853 -0.92975461 -0.87606006] [-0.95072466 -0.90626052 -0.84153906] [0.05691854 0.10671042 0.17040245] [0.03279464 0.0642332  0.11747352] \n",
      "\n",
      "Error in  2 : [-0.96268353 -0.92626152 -0.86811803] [-0.94927589 -0.90202591 -0.83258303] [0.05843154 0.11109143 0.1792332 ] [0.03387956 0.06759477 0.12537588] \n",
      "\n",
      "Error in  3 : [-0.96148728 -0.92249711 -0.85955325] [-0.9477549  -0.89749432 -0.82302236] [0.06001696 0.11576483 0.1886264 ] [0.03502466 0.07122576 0.13392164] \n",
      "\n",
      "Error in  4 : [-0.96022543 -0.91843666 -0.85034057] [-0.9461571  -0.89264217 -0.81284518] [0.06167936 0.12075291 0.19859005] [0.03623424 0.07515139 0.14313949] \n",
      "\n",
      "Error in  5 : [-0.95889326 -0.91405348 -0.8404635 ] [-0.94447759 -0.88744451 -0.8020498 ] [0.06342366 0.12607916 0.2091224 ] [0.03751299 0.07939898 0.1530495 ] \n",
      "\n",
      "Error in  6 : [-0.95748568 -0.90931896 -0.82991717] [-0.94271109 -0.88187516 -0.79064726] [0.06525513 0.13176811 0.22020966] [0.03886598 0.08399794 0.16366004] \n",
      "\n",
      "Final hidden weights: [0.20279864 0.09292399 0.41146413 0.3454444  0.00503762] [0.8553258  0.79677589 0.55322999 0.81752616 0.97036063]\n",
      "Final hidden bias: [0.47925053 0.38461898 0.85069909 0.92170875 0.31635224]\n",
      "Final output weights: [0.229509   0.08100991 0.24611799] [0.31416224 0.80804584 0.88853984] [0.85167594 0.61289128 0.37370312] [ 0.77453678  0.77772    -0.01867394] [0.79243903 0.44920868 0.3894667 ]\n",
      "Final output bias: [0.69293353 0.05682627 0.04359548]\n",
      "\n",
      "Output from neural network after 7 epochs: [0.95748568 0.90931896 0.82991717] [0.94271109 0.88187516 0.79064726] [0.93474487 0.86823189 0.77979034] [0.96113402 0.91600206 0.83633996]\n"
     ]
    }
   ],
   "source": [
    "import numpy as np \n",
    "#np.random.seed(0)\n",
    "\n",
    "def sigmoid (x):\n",
    "    return 1/(1 + np.exp(-x))\n",
    "\n",
    "def sigmoid_derivative(x):\n",
    "    return x * (1 - x)\n",
    "\n",
    "#Input datasets\n",
    "inputs = np.array([[0,1],[1,0],[0,0],[1,1]])\n",
    "expected_output = np.array([[0],[0],[1],[1]])\n",
    "\n",
    "epochs = 7\n",
    "lr = 0.1\n",
    "inputLayerNeurons, hiddenLayerNeurons, outputLayerNeurons = 2,5,3\n",
    "\n",
    "#Random weights and bias initialization\n",
    "hidden_weights = np.random.uniform(size=(inputLayerNeurons,hiddenLayerNeurons))\n",
    "hidden_bias =np.random.uniform(size=(1,hiddenLayerNeurons))\n",
    "output_weights = np.random.uniform(size=(hiddenLayerNeurons,outputLayerNeurons))\n",
    "output_bias = np.random.uniform(size=(1,outputLayerNeurons))\n",
    "\n",
    "print(\"Initial hidden weights: \",end='')\n",
    "print(*hidden_weights)\n",
    "print(\"Initial hidden biases: \",end='')\n",
    "print(*hidden_bias)\n",
    "print(\"Initial output weights: \",end='')\n",
    "print(*output_weights)\n",
    "print(\"Initial output biases: \",end='')\n",
    "print(*output_bias,\"\\n\")\n",
    "\n",
    "\n",
    "#Training algorithm\n",
    "for i in range(epochs):\n",
    "  #Forward Propagation\n",
    "  hidden_layer_activation = np.dot(inputs,hidden_weights)\n",
    "  hidden_layer_activation += hidden_bias\n",
    "  hidden_layer_output = sigmoid(hidden_layer_activation)\n",
    "  \n",
    "  output_layer_activation = np.dot(hidden_layer_output,output_weights)\n",
    "  output_layer_activation += output_bias\n",
    "  predicted_output = sigmoid(output_layer_activation)\n",
    "  #Backpropagation\n",
    "  error = expected_output - predicted_output\n",
    "  print(\"Error in \",i,\":\",*error,\"\\n\")\n",
    "  d_predicted_output = error * sigmoid_derivative(predicted_output)\n",
    "  \n",
    "  error_hidden_layer = d_predicted_output.dot(output_weights.T)\n",
    "  d_hidden_layer = error_hidden_layer * sigmoid_derivative(hidden_layer_output)\n",
    "  #Updating Weights and Biases\n",
    "  output_weights += hidden_layer_output.T.dot(d_predicted_output) * lr\n",
    "  output_bias += np.sum(d_predicted_output,axis=0,keepdims=True) * lr\n",
    "  hidden_weights += inputs.T.dot(d_hidden_layer) * lr\n",
    "  hidden_bias += np.sum(d_hidden_layer,axis=0,keepdims=True) * lr\n",
    " \n",
    "\n",
    "print(\"Final hidden weights: \",end='')\n",
    "print(*hidden_weights)\n",
    "print(\"Final hidden bias: \",end='')\n",
    "print(*hidden_bias)\n",
    "print(\"Final output weights: \",end='')\n",
    "print(*output_weights)\n",
    "print(\"Final output bias: \",end='')\n",
    "print(*output_bias)\n",
    "\n",
    "print(\"\\nOutput from neural network after\",epochs, \"epochs: \",end='')\n",
    "print(*predicted_output)\n"
   ]
  },
  {
   "cell_type": "code",
   "execution_count": 14,
   "id": "275f32c1",
   "metadata": {},
   "outputs": [],
   "source": [
    "def acc(y_pred,y):\n",
    "    acc=y_pred.argmax(axis=1)==y.argmax(axis=1)\n",
    "    print(acc.mean()*100)"
   ]
  },
  {
   "cell_type": "code",
   "execution_count": 15,
   "id": "c01351ab",
   "metadata": {},
   "outputs": [
    {
     "name": "stdout",
     "output_type": "stream",
     "text": [
      "100.0\n"
     ]
    }
   ],
   "source": [
    "acc(predicted_output,expected_output)"
   ]
  },
  {
   "cell_type": "code",
   "execution_count": null,
   "id": "a00a6e40",
   "metadata": {},
   "outputs": [],
   "source": []
  },
  {
   "cell_type": "code",
   "execution_count": null,
   "id": "70e162e8",
   "metadata": {},
   "outputs": [],
   "source": []
  },
  {
   "cell_type": "code",
   "execution_count": null,
   "id": "cd7bd2d4",
   "metadata": {},
   "outputs": [],
   "source": []
  },
  {
   "cell_type": "code",
   "execution_count": null,
   "id": "7616ac2d",
   "metadata": {},
   "outputs": [],
   "source": []
  },
  {
   "cell_type": "code",
   "execution_count": null,
   "id": "0c0ad1a0",
   "metadata": {},
   "outputs": [],
   "source": []
  },
  {
   "cell_type": "code",
   "execution_count": null,
   "id": "fdaabf32",
   "metadata": {},
   "outputs": [],
   "source": []
  },
  {
   "cell_type": "code",
   "execution_count": null,
   "id": "9d831249",
   "metadata": {},
   "outputs": [],
   "source": []
  }
 ],
 "metadata": {
  "kernelspec": {
   "display_name": "Python 3 (ipykernel)",
   "language": "python",
   "name": "python3"
  },
  "language_info": {
   "codemirror_mode": {
    "name": "ipython",
    "version": 3
   },
   "file_extension": ".py",
   "mimetype": "text/x-python",
   "name": "python",
   "nbconvert_exporter": "python",
   "pygments_lexer": "ipython3",
   "version": "3.9.7"
  }
 },
 "nbformat": 4,
 "nbformat_minor": 5
}

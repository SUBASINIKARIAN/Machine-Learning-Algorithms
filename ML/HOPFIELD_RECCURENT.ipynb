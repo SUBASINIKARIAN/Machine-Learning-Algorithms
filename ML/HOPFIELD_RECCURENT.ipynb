{
 "cells": [
  {
   "cell_type": "code",
   "execution_count": 7,
   "id": "f7a5bbb0",
   "metadata": {},
   "outputs": [],
   "source": [
    "import numpy as np\n",
    "import neurolab as nb"
   ]
  },
  {
   "cell_type": "code",
   "execution_count": 8,
   "id": "761e7a72",
   "metadata": {},
   "outputs": [],
   "source": [
    "target=[[0,1,1,1,1,\n",
    "        1,0,0,0,0,\n",
    "        0,1,1,1,0,\n",
    "        0,0,0,0,1,\n",
    "        1,1,1,1,0],\n",
    "       [1,0,0,0,1,\n",
    "        1,0,0,0,1,\n",
    "        1,0,0,0,1,\n",
    "        1,0,0,0,1,\n",
    "        0,1,1,1,0],\n",
    "       [1,1,1,1,1,\n",
    "        1,0,0,1,0,\n",
    "        1,1,1,1,0,\n",
    "        1,0,0,1,0,\n",
    "        1,1,1,1,1],\n",
    "       [0,0,1,0,0,\n",
    "           0,1,0,1,0,\n",
    "           1,1,1,1,1,\n",
    "           1,1,0,1,1,\n",
    "           1,0,0,0,1],\n",
    "        ]"
   ]
  },
  {
   "cell_type": "code",
   "execution_count": 9,
   "id": "5c8a34cd",
   "metadata": {},
   "outputs": [],
   "source": [
    "chars=['S','U','B','A']\n",
    "target=np.asfarray(target)\n",
    "target[target==0]=-1\n"
   ]
  },
  {
   "cell_type": "code",
   "execution_count": 10,
   "id": "1ba2938a",
   "metadata": {},
   "outputs": [],
   "source": [
    "net=nb.net.newhop(target)"
   ]
  },
  {
   "cell_type": "code",
   "execution_count": 11,
   "id": "86ce1767",
   "metadata": {},
   "outputs": [
    {
     "name": "stdout",
     "output_type": "stream",
     "text": [
      "Test on train samples:\n",
      "S True\n",
      "U True\n",
      "B True\n",
      "A True\n"
     ]
    }
   ],
   "source": [
    "\n",
    "output=net.sim(target)\n",
    "print(\"Test on train samples:\")\n",
    "for i in range(len(target)):\n",
    "    print(chars[i],(output[i]==target[i]).all())"
   ]
  },
  {
   "cell_type": "code",
   "execution_count": 12,
   "id": "aadefb2b",
   "metadata": {},
   "outputs": [
    {
     "name": "stdout",
     "output_type": "stream",
     "text": [
      "Test on defaced S:\n",
      "False \n",
      "Simsteps 6\n"
     ]
    }
   ],
   "source": [
    "print(\"Test on defaced S:\")\n",
    "test=np.asfarray([0,0,0,0,0,\n",
    "                  1,1,1,1,1,\n",
    "                  1,1,0,0,0,\n",
    "                  0,0,0,1,1,\n",
    "                  1,0,1,1,0])\n",
    "test[test==0]=-1\n",
    "out=net.sim([test])\n",
    "print((out[0]==target[0]).all(),'\\nSimsteps',len(net.layers[0].outs))"
   ]
  },
  {
   "cell_type": "code",
   "execution_count": null,
   "id": "f9be1905",
   "metadata": {},
   "outputs": [],
   "source": []
  }
 ],
 "metadata": {
  "kernelspec": {
   "display_name": "Python 3 (ipykernel)",
   "language": "python",
   "name": "python3"
  },
  "language_info": {
   "codemirror_mode": {
    "name": "ipython",
    "version": 3
   },
   "file_extension": ".py",
   "mimetype": "text/x-python",
   "name": "python",
   "nbconvert_exporter": "python",
   "pygments_lexer": "ipython3",
   "version": "3.9.7"
  }
 },
 "nbformat": 4,
 "nbformat_minor": 5
}

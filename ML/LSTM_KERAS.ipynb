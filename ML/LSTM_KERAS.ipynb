{
 "cells": [
  {
   "cell_type": "code",
   "execution_count": 1,
   "id": "0f7ff8ae",
   "metadata": {},
   "outputs": [],
   "source": [
    "import pandas as pd\n",
    "import numpy as np\n",
    "import matplotlib.pyplot as plt"
   ]
  },
  {
   "cell_type": "code",
   "execution_count": 2,
   "id": "6aed31ca",
   "metadata": {},
   "outputs": [
    {
     "data": {
      "text/html": [
       "<div>\n",
       "<style scoped>\n",
       "    .dataframe tbody tr th:only-of-type {\n",
       "        vertical-align: middle;\n",
       "    }\n",
       "\n",
       "    .dataframe tbody tr th {\n",
       "        vertical-align: top;\n",
       "    }\n",
       "\n",
       "    .dataframe thead th {\n",
       "        text-align: right;\n",
       "    }\n",
       "</style>\n",
       "<table border=\"1\" class=\"dataframe\">\n",
       "  <thead>\n",
       "    <tr style=\"text-align: right;\">\n",
       "      <th></th>\n",
       "      <th>sepal_length</th>\n",
       "      <th>sepal_width</th>\n",
       "      <th>petal_length</th>\n",
       "      <th>petal_width</th>\n",
       "      <th>species</th>\n",
       "    </tr>\n",
       "  </thead>\n",
       "  <tbody>\n",
       "    <tr>\n",
       "      <th>0</th>\n",
       "      <td>5.1</td>\n",
       "      <td>3.5</td>\n",
       "      <td>1.4</td>\n",
       "      <td>0.2</td>\n",
       "      <td>Iris-setosa</td>\n",
       "    </tr>\n",
       "    <tr>\n",
       "      <th>1</th>\n",
       "      <td>4.9</td>\n",
       "      <td>3.0</td>\n",
       "      <td>1.4</td>\n",
       "      <td>0.2</td>\n",
       "      <td>Iris-setosa</td>\n",
       "    </tr>\n",
       "    <tr>\n",
       "      <th>2</th>\n",
       "      <td>4.7</td>\n",
       "      <td>3.2</td>\n",
       "      <td>1.3</td>\n",
       "      <td>0.2</td>\n",
       "      <td>Iris-setosa</td>\n",
       "    </tr>\n",
       "    <tr>\n",
       "      <th>3</th>\n",
       "      <td>4.6</td>\n",
       "      <td>3.1</td>\n",
       "      <td>1.5</td>\n",
       "      <td>0.2</td>\n",
       "      <td>Iris-setosa</td>\n",
       "    </tr>\n",
       "    <tr>\n",
       "      <th>4</th>\n",
       "      <td>5.0</td>\n",
       "      <td>3.6</td>\n",
       "      <td>1.4</td>\n",
       "      <td>0.2</td>\n",
       "      <td>Iris-setosa</td>\n",
       "    </tr>\n",
       "  </tbody>\n",
       "</table>\n",
       "</div>"
      ],
      "text/plain": [
       "   sepal_length  sepal_width  petal_length  petal_width      species\n",
       "0           5.1          3.5           1.4          0.2  Iris-setosa\n",
       "1           4.9          3.0           1.4          0.2  Iris-setosa\n",
       "2           4.7          3.2           1.3          0.2  Iris-setosa\n",
       "3           4.6          3.1           1.5          0.2  Iris-setosa\n",
       "4           5.0          3.6           1.4          0.2  Iris-setosa"
      ]
     },
     "execution_count": 2,
     "metadata": {},
     "output_type": "execute_result"
    }
   ],
   "source": [
    "dataset = pd.read_csv(\"D:\\Datasets\\IRIS (1).csv\")\n",
    "dataset.head()"
   ]
  },
  {
   "cell_type": "code",
   "execution_count": 3,
   "id": "21c3b465",
   "metadata": {},
   "outputs": [
    {
     "data": {
      "text/plain": [
       "0    Iris-setosa\n",
       "1    Iris-setosa\n",
       "2    Iris-setosa\n",
       "3    Iris-setosa\n",
       "4    Iris-setosa\n",
       "Name: species, dtype: object"
      ]
     },
     "execution_count": 3,
     "metadata": {},
     "output_type": "execute_result"
    }
   ],
   "source": [
    "X=dataset.iloc[:,:-1]\n",
    "X.head()\n",
    "Y=dataset.iloc[:,-1]\n",
    "Y.head()"
   ]
  },
  {
   "cell_type": "code",
   "execution_count": 4,
   "id": "11739efc",
   "metadata": {},
   "outputs": [],
   "source": [
    "dataset[\"species\"] = dataset[\"species\"].astype('category')\n",
    "dataset.dtypes\n",
    "dataset[\"species\"] = dataset[\"species\"].cat.codes\n",
    "dataset.head()\n",
    "X1=dataset.iloc[:,:-1]\n",
    "Y1=dataset.iloc[:,-1]"
   ]
  },
  {
   "cell_type": "code",
   "execution_count": 5,
   "id": "c0c5268f",
   "metadata": {},
   "outputs": [],
   "source": [
    "from keras.models import Sequential\n",
    "from keras.layers import Dense\n",
    "from keras.layers import LSTM\n",
    "from sklearn.model_selection import train_test_split\n",
    "import numpy as np\n",
    "import matplotlib.pyplot as plt"
   ]
  },
  {
   "cell_type": "code",
   "execution_count": 6,
   "id": "94a94e50",
   "metadata": {},
   "outputs": [
    {
     "data": {
      "text/plain": [
       "(150,)"
      ]
     },
     "execution_count": 6,
     "metadata": {},
     "output_type": "execute_result"
    }
   ],
   "source": [
    "dataset.shape\n",
    "X1.shape\n",
    "Y1.shape"
   ]
  },
  {
   "cell_type": "code",
   "execution_count": 7,
   "id": "2e7ed476",
   "metadata": {},
   "outputs": [],
   "source": [
    "   x_train,x_test,y_train,y_test=train_test_split(X1,Y1,test_size=0.2,random_state=4)"
   ]
  },
  {
   "cell_type": "code",
   "execution_count": 8,
   "id": "48a076d2",
   "metadata": {},
   "outputs": [],
   "source": [
    "model=Sequential()"
   ]
  },
  {
   "cell_type": "code",
   "execution_count": 9,
   "id": "24e04ea3",
   "metadata": {},
   "outputs": [],
   "source": [
    "model.add(LSTM((1),batch_input_shape=(None,4,1),return_sequences=True))"
   ]
  },
  {
   "cell_type": "code",
   "execution_count": 10,
   "id": "0294c9e6",
   "metadata": {},
   "outputs": [],
   "source": [
    "model.add(LSTM((1),return_sequences=False))"
   ]
  },
  {
   "cell_type": "code",
   "execution_count": 11,
   "id": "a5c8bf7e",
   "metadata": {},
   "outputs": [],
   "source": [
    "model.compile(loss='mean_absolute_error',optimizer='adam',metrics=['accuracy'])"
   ]
  },
  {
   "cell_type": "code",
   "execution_count": 12,
   "id": "ce8df3c0",
   "metadata": {},
   "outputs": [
    {
     "name": "stdout",
     "output_type": "stream",
     "text": [
      "Epoch 1/50\n",
      "4/4 [==============================] - 60s 8s/step - loss: 1.0608 - accuracy: 0.2833 - val_loss: 0.7673 - val_accuracy: 0.5333\n",
      "Epoch 2/50\n",
      "4/4 [==============================] - 0s 23ms/step - loss: 1.0577 - accuracy: 0.2833 - val_loss: 0.7661 - val_accuracy: 0.5333\n",
      "Epoch 3/50\n",
      "4/4 [==============================] - 0s 27ms/step - loss: 1.0560 - accuracy: 0.2833 - val_loss: 0.7664 - val_accuracy: 0.5333\n",
      "Epoch 4/50\n",
      "4/4 [==============================] - 0s 23ms/step - loss: 1.0550 - accuracy: 0.2833 - val_loss: 0.7666 - val_accuracy: 0.5333\n",
      "Epoch 5/50\n",
      "4/4 [==============================] - 0s 26ms/step - loss: 1.0539 - accuracy: 0.2833 - val_loss: 0.7668 - val_accuracy: 0.5333\n",
      "Epoch 6/50\n",
      "4/4 [==============================] - 0s 22ms/step - loss: 1.0528 - accuracy: 0.2833 - val_loss: 0.7670 - val_accuracy: 0.5333\n",
      "Epoch 7/50\n",
      "4/4 [==============================] - 0s 24ms/step - loss: 1.0518 - accuracy: 0.2833 - val_loss: 0.7673 - val_accuracy: 0.5333\n",
      "Epoch 8/50\n",
      "4/4 [==============================] - 0s 22ms/step - loss: 1.0507 - accuracy: 0.2833 - val_loss: 0.7675 - val_accuracy: 0.5333\n",
      "Epoch 9/50\n",
      "4/4 [==============================] - 0s 23ms/step - loss: 1.0497 - accuracy: 0.2833 - val_loss: 0.7677 - val_accuracy: 0.5333\n",
      "Epoch 10/50\n",
      "4/4 [==============================] - 0s 23ms/step - loss: 1.0486 - accuracy: 0.2833 - val_loss: 0.7679 - val_accuracy: 0.5333\n",
      "Epoch 11/50\n",
      "4/4 [==============================] - 0s 21ms/step - loss: 1.0474 - accuracy: 0.2833 - val_loss: 0.7682 - val_accuracy: 0.5333\n",
      "Epoch 12/50\n",
      "4/4 [==============================] - 0s 22ms/step - loss: 1.0462 - accuracy: 0.2833 - val_loss: 0.7684 - val_accuracy: 0.5333\n",
      "Epoch 13/50\n",
      "4/4 [==============================] - 0s 23ms/step - loss: 1.0451 - accuracy: 0.2833 - val_loss: 0.7686 - val_accuracy: 0.5333\n",
      "Epoch 14/50\n",
      "4/4 [==============================] - 0s 21ms/step - loss: 1.0437 - accuracy: 0.2833 - val_loss: 0.7689 - val_accuracy: 0.5333\n",
      "Epoch 15/50\n",
      "4/4 [==============================] - 0s 22ms/step - loss: 1.0425 - accuracy: 0.2833 - val_loss: 0.7692 - val_accuracy: 0.5333\n",
      "Epoch 16/50\n",
      "4/4 [==============================] - 0s 22ms/step - loss: 1.0411 - accuracy: 0.2833 - val_loss: 0.7694 - val_accuracy: 0.5333\n",
      "Epoch 17/50\n",
      "4/4 [==============================] - 0s 24ms/step - loss: 1.0397 - accuracy: 0.2833 - val_loss: 0.7697 - val_accuracy: 0.5333\n",
      "Epoch 18/50\n",
      "4/4 [==============================] - 0s 23ms/step - loss: 1.0383 - accuracy: 0.2833 - val_loss: 0.7700 - val_accuracy: 0.5333\n",
      "Epoch 19/50\n",
      "4/4 [==============================] - 0s 21ms/step - loss: 1.0368 - accuracy: 0.2833 - val_loss: 0.7703 - val_accuracy: 0.5333\n",
      "Epoch 20/50\n",
      "4/4 [==============================] - 0s 25ms/step - loss: 1.0354 - accuracy: 0.2833 - val_loss: 0.7706 - val_accuracy: 0.5333\n",
      "Epoch 21/50\n",
      "4/4 [==============================] - 0s 22ms/step - loss: 1.0337 - accuracy: 0.2833 - val_loss: 0.7709 - val_accuracy: 0.5333\n",
      "Epoch 22/50\n",
      "4/4 [==============================] - 0s 23ms/step - loss: 1.0323 - accuracy: 0.2833 - val_loss: 0.7712 - val_accuracy: 0.5333\n",
      "Epoch 23/50\n",
      "4/4 [==============================] - 0s 23ms/step - loss: 1.0303 - accuracy: 0.2833 - val_loss: 0.7716 - val_accuracy: 0.5333\n",
      "Epoch 24/50\n",
      "4/4 [==============================] - 0s 21ms/step - loss: 1.0288 - accuracy: 0.2833 - val_loss: 0.7719 - val_accuracy: 0.5333\n",
      "Epoch 25/50\n",
      "4/4 [==============================] - 0s 20ms/step - loss: 1.0270 - accuracy: 0.2833 - val_loss: 0.7723 - val_accuracy: 0.5333\n",
      "Epoch 26/50\n",
      "4/4 [==============================] - 0s 19ms/step - loss: 1.0251 - accuracy: 0.2833 - val_loss: 0.7726 - val_accuracy: 0.5333\n",
      "Epoch 27/50\n",
      "4/4 [==============================] - 0s 21ms/step - loss: 1.0232 - accuracy: 0.2833 - val_loss: 0.7730 - val_accuracy: 0.5333\n",
      "Epoch 28/50\n",
      "4/4 [==============================] - 0s 21ms/step - loss: 1.0212 - accuracy: 0.2833 - val_loss: 0.7734 - val_accuracy: 0.5333\n",
      "Epoch 29/50\n",
      "4/4 [==============================] - 0s 20ms/step - loss: 1.0192 - accuracy: 0.2833 - val_loss: 0.7738 - val_accuracy: 0.5333\n",
      "Epoch 30/50\n",
      "4/4 [==============================] - 0s 18ms/step - loss: 1.0171 - accuracy: 0.2833 - val_loss: 0.7742 - val_accuracy: 0.5333\n",
      "Epoch 31/50\n",
      "4/4 [==============================] - 0s 21ms/step - loss: 1.0150 - accuracy: 0.2833 - val_loss: 0.7746 - val_accuracy: 0.5333\n",
      "Epoch 32/50\n",
      "4/4 [==============================] - 0s 21ms/step - loss: 1.0127 - accuracy: 0.2833 - val_loss: 0.7750 - val_accuracy: 0.5333\n",
      "Epoch 33/50\n",
      "4/4 [==============================] - 0s 23ms/step - loss: 1.0101 - accuracy: 0.2833 - val_loss: 0.7754 - val_accuracy: 0.5333\n",
      "Epoch 34/50\n",
      "4/4 [==============================] - 0s 22ms/step - loss: 1.0079 - accuracy: 0.2833 - val_loss: 0.7759 - val_accuracy: 0.5333\n",
      "Epoch 35/50\n",
      "4/4 [==============================] - 0s 24ms/step - loss: 1.0053 - accuracy: 0.2833 - val_loss: 0.7763 - val_accuracy: 0.5333\n",
      "Epoch 36/50\n",
      "4/4 [==============================] - 0s 20ms/step - loss: 1.0023 - accuracy: 0.2833 - val_loss: 0.7767 - val_accuracy: 0.5333\n",
      "Epoch 37/50\n",
      "4/4 [==============================] - 0s 22ms/step - loss: 0.9997 - accuracy: 0.2833 - val_loss: 0.7772 - val_accuracy: 0.5333\n",
      "Epoch 38/50\n",
      "4/4 [==============================] - 0s 22ms/step - loss: 0.9968 - accuracy: 0.2833 - val_loss: 0.7776 - val_accuracy: 0.5333\n",
      "Epoch 39/50\n",
      "4/4 [==============================] - 0s 22ms/step - loss: 0.9937 - accuracy: 0.2833 - val_loss: 0.7781 - val_accuracy: 0.5333\n",
      "Epoch 40/50\n",
      "4/4 [==============================] - 0s 22ms/step - loss: 0.9906 - accuracy: 0.2833 - val_loss: 0.7786 - val_accuracy: 0.5333\n",
      "Epoch 41/50\n",
      "4/4 [==============================] - 0s 22ms/step - loss: 0.9871 - accuracy: 0.2833 - val_loss: 0.7791 - val_accuracy: 0.5333\n",
      "Epoch 42/50\n",
      "4/4 [==============================] - 0s 23ms/step - loss: 0.9836 - accuracy: 0.2833 - val_loss: 0.7796 - val_accuracy: 0.5333\n",
      "Epoch 43/50\n",
      "4/4 [==============================] - 0s 24ms/step - loss: 0.9799 - accuracy: 0.2833 - val_loss: 0.7801 - val_accuracy: 0.5333\n",
      "Epoch 44/50\n",
      "4/4 [==============================] - 0s 23ms/step - loss: 0.9761 - accuracy: 0.2833 - val_loss: 0.7806 - val_accuracy: 0.5333\n",
      "Epoch 45/50\n",
      "4/4 [==============================] - 0s 22ms/step - loss: 0.9716 - accuracy: 0.2833 - val_loss: 0.7810 - val_accuracy: 0.5333\n",
      "Epoch 46/50\n",
      "4/4 [==============================] - 0s 29ms/step - loss: 0.9676 - accuracy: 0.2833 - val_loss: 0.7815 - val_accuracy: 0.5333\n",
      "Epoch 47/50\n",
      "4/4 [==============================] - 0s 23ms/step - loss: 0.9630 - accuracy: 0.2833 - val_loss: 0.7819 - val_accuracy: 0.5333\n",
      "Epoch 48/50\n",
      "4/4 [==============================] - 0s 25ms/step - loss: 0.9583 - accuracy: 0.2833 - val_loss: 0.7823 - val_accuracy: 0.5333\n",
      "Epoch 49/50\n",
      "4/4 [==============================] - 0s 22ms/step - loss: 0.9534 - accuracy: 0.2833 - val_loss: 0.7827 - val_accuracy: 0.5333\n",
      "Epoch 50/50\n",
      "4/4 [==============================] - 0s 21ms/step - loss: 0.9480 - accuracy: 0.2833 - val_loss: 0.7831 - val_accuracy: 0.5333\n"
     ]
    }
   ],
   "source": [
    "history=model.fit(x_train,y_train,epochs=50,validation_data=(x_test,y_test))"
   ]
  },
  {
   "cell_type": "code",
   "execution_count": 13,
   "id": "039697ce",
   "metadata": {},
   "outputs": [
    {
     "data": {
      "image/png": "[encoded data removed]",
      "text/plain": [
       "<Figure size 432x288 with 1 Axes>"
      ]
     },
     "metadata": {
      "needs_background": "light"
     },
     "output_type": "display_data"
    },
    {
     "name": "stdout",
     "output_type": "stream",
     "text": [
      "Model: \"sequential\"\n",
      "_________________________________________________________________\n",
      " Layer (type)                Output Shape              Param #   \n",
      "=================================================================\n",
      " lstm (LSTM)                 (None, 4, 1)              12        \n",
      "                                                                 \n",
      " lstm_1 (LSTM)               (None, 1)                 12        \n",
      "                                                                 \n",
      "=================================================================\n",
      "Total params: 24\n",
      "Trainable params: 24\n",
      "Non-trainable params: 0\n",
      "_________________________________________________________________\n"
     ]
    }
   ],
   "source": [
    "plt.plot(history.history['loss'])\n",
    "plt.show()\n",
    "model.summary()"
   ]
  },
  {
   "cell_type": "code",
   "execution_count": 14,
   "id": "32f67dc7",
   "metadata": {},
   "outputs": [
    {
     "name": "stdout",
     "output_type": "stream",
     "text": [
      "Epoch 1/10\n",
      "2/2 [==============================] - 0s 16ms/step - loss: 0.9440 - accuracy: 0.2833\n",
      "Epoch 2/10\n",
      "2/2 [==============================] - 0s 10ms/step - loss: 0.9413 - accuracy: 0.2833\n",
      "Epoch 3/10\n",
      "2/2 [==============================] - 0s 15ms/step - loss: 0.9384 - accuracy: 0.2833\n",
      "Epoch 4/10\n",
      "2/2 [==============================] - 0s 14ms/step - loss: 0.9356 - accuracy: 0.2833\n",
      "Epoch 5/10\n",
      "2/2 [==============================] - 0s 9ms/step - loss: 0.9326 - accuracy: 0.2833\n",
      "Epoch 6/10\n",
      "2/2 [==============================] - 0s 8ms/step - loss: 0.9294 - accuracy: 0.2833\n",
      "Epoch 7/10\n",
      "2/2 [==============================] - 0s 17ms/step - loss: 0.9265 - accuracy: 0.2833\n",
      "Epoch 8/10\n",
      "2/2 [==============================] - 0s 9ms/step - loss: 0.9232 - accuracy: 0.2833\n",
      "Epoch 9/10\n",
      "2/2 [==============================] - 0s 11ms/step - loss: 0.9202 - accuracy: 0.2833\n",
      "Epoch 10/10\n",
      "2/2 [==============================] - 0s 10ms/step - loss: 0.9168 - accuracy: 0.2833\n",
      "1/1 [==============================] - 0s 41ms/step - loss: 0.7842 - accuracy: 0.5333\n",
      "\n",
      "Accuracy: 0.5333333611488342\n"
     ]
    }
   ],
   "source": [
    "model.fit(x_train, y_train, batch_size=64, epochs=10) \n",
    "\n",
    "print('\\nAccuracy: {}'. format(model.evaluate(x_test, y_test)[1]))"
   ]
  },
  {
   "cell_type": "code",
   "execution_count": null,
   "id": "701abcef",
   "metadata": {},
   "outputs": [],
   "source": []
  },
  {
   "cell_type": "code",
   "execution_count": null,
   "id": "b552d678",
   "metadata": {},
   "outputs": [],
   "source": []
  }
 ],
 "metadata": {
  "kernelspec": {
   "display_name": "Python 3 (ipykernel)",
   "language": "python",
   "name": "python3"
  },
  "language_info": {
   "codemirror_mode": {
    "name": "ipython",
    "version": 3
   },
   "file_extension": ".py",
   "mimetype": "text/x-python",
   "name": "python",
   "nbconvert_exporter": "python",
   "pygments_lexer": "ipython3",
   "version": "3.9.7"
  }
 },
 "nbformat": 4,
 "nbformat_minor": 5
}
